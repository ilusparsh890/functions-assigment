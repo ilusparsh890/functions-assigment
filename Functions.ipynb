{
  "nbformat": 4,
  "nbformat_minor": 0,
  "metadata": {
    "colab": {
      "provenance": []
    },
    "kernelspec": {
      "name": "python3",
      "display_name": "Python 3"
    },
    "language_info": {
      "name": "python"
    }
  },
  "cells": [
    {
      "cell_type": "code",
      "execution_count": null,
      "metadata": {
        "id": "lzT3mLsDwWT-"
      },
      "outputs": [],
      "source": []
    },
    {
      "cell_type": "markdown",
      "source": [
        "1:  What is the difference between a function and a method in Python?\n",
        "  - Function is a block of code that perform a specific tasks and is defined using def keyword. It can exit independently. We use function to reduce the repetitive task by writing a long bunch of codes.\n",
        "  - Method is a fuction that is assosciated with an object and is called on that object. It's defined inside the class.\n",
        "\n",
        "2:  Explain the concept of function arguments and parameters in Python.\n",
        "  - Parameters are the variables which are listed in the function definition while creating the function.\n",
        "      - eg, def sum(a,b):  -> here a & b are the parameter\n",
        "  - Arguments are the values passed to the function when it is called to perform certain tasks.\n",
        "      - eg, sum(2,4)  -> here 2 & 3 are the argument which is passed while performing certain task.\n",
        "\n",
        "3: What are the different ways to define and call a function in Python?\n",
        "  - To define the function is python there are ways like we can use \"def\" and \"lambda\".\n",
        "      - eg, def sum(a,b)\n",
        "      - eg, lambda sum: a+b\n",
        "  - To call the function we can use the function name followed by parantheses.\n",
        "      - eg, add(2,5)\n",
        "\n",
        "4: What is the purpose of the `return` statement in a Python function?\n",
        "  - We use the return function at the end to exit and return the value performed by the function to caller.\n",
        "      - def sum(a,b):\n",
        "            return a+b\n",
        "\n",
        "5: What are iterators in Python and how do they differ from iterables?\n",
        "  - Iterators are the object with a next() menthod that retirn the next items.\n",
        "  - Iterables are the object capable of returning its members one at a time like lists, tuples.\n",
        "\n",
        "6: Explain the concept of generators in Python and how they are defined.\n",
        "  - Generators are the functions that, instead of returning a single value and exiting, yield a sequence of values over time. The key characteristic of a generator is that it doesn't build a list of values in memory all at once. Instead, it generates them one by one, only when requested. This makes them incredibly memory-efficient for large sequences and allows for potentially infinite sequences.\n",
        "       -def cnt(n):\n",
        "            i = 1\n",
        "            i <= n:\n",
        "              yield i\n",
        "              i += 1\n",
        "\n",
        "7: What are the advantages of using generators over regular functions?\n",
        "  - Generators are a fundamental concept in Python for writing efficient, scalable, and elegant code when dealing with sequences of data, especially when those sequences are large, infinite, or part of a data processing pipeline. Iterators are also simple for creating.\n",
        "\n",
        "8: What is a lambda function in Python and when is it typically used?\n",
        "  - Lambda functions are the small anonymous functions defined using the keyword lambda.\n",
        "  - When we have to use short functions we create lambda functions and these functions are oftenly used with map(), filter(), etc. functions.\n",
        "        eg:\n",
        "              square = lambda x: x * x\n",
        "                square(4)\n",
        "\n",
        "9: Explain the purpose and usage of the `map()` function in Python.\n",
        "  - map() is a valuable tool in a Python for applying transformations across iterables efficiently and concisely, particularly useful when working with large datasets.\n",
        "  - eg:\n",
        "        numbers = [1, 2, 3, 4, 5]\n",
        "              squarenum = map(lambda x: x * x, numbers)\n",
        "              print(list(squarenum))\n",
        "\n",
        "10: What is the difference between `map()`, `reduce()`, and `filter()` functions in Python?\n",
        "  - map(): Applies a function to each item in an iterable and returns a new iterable (map object) containing the results of the transformation.\n",
        "  - reduce(): Applies a function (that returns True or False) to each item in an iterable and returns a new iterable (filter object) containing only the items for which the function returned True.\n",
        "  - filter(): Applies a function (that takes two arguments) cumulatively to the items of an iterable to reduce the iterable to a single cumulative result.\n",
        "\n",
        "11: Using pen & Paper write the internal mechanism for sum operation using  reduce function on this given\n",
        "list:[47,11,42,13];\n",
        "  - I've added the hand drawn mechanism in the doc file where I''ve given the github link, please refer from there.\n",
        "\n"
      ],
      "metadata": {
        "id": "cEQ0ILkLwZZp"
      }
    },
    {
      "cell_type": "code",
      "source": [
        "#1: Write a Python function that takes a list of numbers as input and returns the sum of all even numbers in the list.\n",
        "numbers=[34,5,2,4,10,9,3]\n",
        "def sumeven(numbers):\n",
        "    return sum(num for num in numbers if num % 2 == 0)\n",
        "\n",
        "sumeven(numbers)\n"
      ],
      "metadata": {
        "colab": {
          "base_uri": "https://localhost:8080/"
        },
        "id": "JhZ6AtjG4n9c",
        "outputId": "18ccbdfd-ed65-4c68-fa53-7818942a3e04"
      },
      "execution_count": 6,
      "outputs": [
        {
          "output_type": "execute_result",
          "data": {
            "text/plain": [
              "50"
            ]
          },
          "metadata": {},
          "execution_count": 6
        }
      ]
    },
    {
      "cell_type": "code",
      "source": [
        "#2:Create a Python function that accepts a string and returns the reverse of that string.\n",
        "userString=input('Enter the string: ')\n",
        "def revString(userString):\n",
        "  return userString[::-1]\n",
        "\n",
        "revString(userString)"
      ],
      "metadata": {
        "colab": {
          "base_uri": "https://localhost:8080/",
          "height": 53
        },
        "id": "lBMBIuVG9GIY",
        "outputId": "f77e5f52-31cb-4de4-fce7-9a623be4823c"
      },
      "execution_count": 8,
      "outputs": [
        {
          "name": "stdout",
          "output_type": "stream",
          "text": [
            "Enter the string: Bheem\n"
          ]
        },
        {
          "output_type": "execute_result",
          "data": {
            "text/plain": [
              "'meehB'"
            ],
            "application/vnd.google.colaboratory.intrinsic+json": {
              "type": "string"
            }
          },
          "metadata": {},
          "execution_count": 8
        }
      ]
    },
    {
      "cell_type": "code",
      "source": [
        "#3: Implement a Python function that takes a list of integers and returns a new list containing the squares of each number.\n",
        "numList=[4,3,2,6,5,10]\n",
        "def numSqr(numList):\n",
        "  return [i ** 2 for i in numList]\n",
        "\n",
        "numSqr(numList)"
      ],
      "metadata": {
        "colab": {
          "base_uri": "https://localhost:8080/"
        },
        "id": "H_AtLQZE9wi_",
        "outputId": "d39e6055-0397-4745-d268-e20b360108be"
      },
      "execution_count": 9,
      "outputs": [
        {
          "output_type": "execute_result",
          "data": {
            "text/plain": [
              "[16, 9, 4, 36, 25, 100]"
            ]
          },
          "metadata": {},
          "execution_count": 9
        }
      ]
    },
    {
      "cell_type": "code",
      "source": [
        "#4:Write a Python function that checks if a given number is prime or not from 1 to 200.\n",
        "def isPrime(n):\n",
        "    if n < 2:\n",
        "        return False\n",
        "    for i in range(2, int(n**0.5) + 1):\n",
        "        if n % i == 0:\n",
        "            return 'No its not a prime number'\n",
        "    return 'Yes its Prime number'\n",
        "\n",
        "\n",
        "isPrime(81)"
      ],
      "metadata": {
        "colab": {
          "base_uri": "https://localhost:8080/",
          "height": 36
        },
        "id": "XwfMqEUB-pZO",
        "outputId": "25d2b600-5526-45f9-974e-b38e1f367bea"
      },
      "execution_count": 18,
      "outputs": [
        {
          "output_type": "execute_result",
          "data": {
            "text/plain": [
              "'No its not a prime number'"
            ],
            "application/vnd.google.colaboratory.intrinsic+json": {
              "type": "string"
            }
          },
          "metadata": {},
          "execution_count": 18
        }
      ]
    },
    {
      "cell_type": "code",
      "source": [
        "#5: Create an iterator class in Python that generates the Fibonacci sequence up to a specified number of terms.\n",
        "class FibonacciIterator:\n",
        "    def __init__(self, max_terms):\n",
        "        self.max_terms = max_terms\n",
        "        self.count = 0\n",
        "        self.a, self.b = 0, 1\n",
        "\n",
        "    def __iter__(self):\n",
        "        return self\n",
        "\n",
        "    def __next__(self):\n",
        "        if self.count >= self.max_terms:\n",
        "            raise StopIteration\n",
        "        value = self.a\n",
        "        self.a, self.b = self.b, self.a + self.b\n",
        "        self.count += 1\n",
        "        return value\n",
        "\n",
        "# Create an instance of the iterator\n",
        "fib = FibonacciIterator(15)\n",
        "\n",
        "# Iterate through the Fibonacci sequence\n",
        "for num in fib:\n",
        "    print(num)\n"
      ],
      "metadata": {
        "colab": {
          "base_uri": "https://localhost:8080/"
        },
        "id": "ldYlTeY3_RGu",
        "outputId": "e5e6cade-0fe9-470c-a622-bac2c89b1b3c"
      },
      "execution_count": 23,
      "outputs": [
        {
          "output_type": "stream",
          "name": "stdout",
          "text": [
            "0\n",
            "1\n",
            "1\n",
            "2\n",
            "3\n",
            "5\n",
            "8\n",
            "13\n",
            "21\n",
            "34\n",
            "55\n",
            "89\n",
            "144\n",
            "233\n",
            "377\n"
          ]
        }
      ]
    },
    {
      "cell_type": "markdown",
      "source": [],
      "metadata": {
        "id": "G47sEcXQxLWM"
      }
    },
    {
      "cell_type": "code",
      "source": [
        "#6: Write a generator function in Python that yields the powers of 2 up to a given exponent.\n",
        "\n",
        "def powers_of_two(max_exponent):\n",
        "    for i in range(max_exponent + 1):\n",
        "        yield 2 ** i\n",
        "\n",
        "\n",
        "for power in powers_of_two(5):\n",
        "    print(power)\n"
      ],
      "metadata": {
        "colab": {
          "base_uri": "https://localhost:8080/"
        },
        "id": "G7gVAMaYAQJK",
        "outputId": "de3fb30e-2fc9-44df-e794-f7a0b6a0eb57"
      },
      "execution_count": 27,
      "outputs": [
        {
          "output_type": "stream",
          "name": "stdout",
          "text": [
            "1\n",
            "2\n",
            "4\n",
            "8\n",
            "16\n",
            "32\n"
          ]
        }
      ]
    },
    {
      "cell_type": "code",
      "source": [
        "#7:  Implement a generator function that reads a file line by line and yields each line as a string.\n",
        "def read_file_lines(filename):\n",
        "    with open(filename, 'r') as file:\n",
        "        for line in file:\n",
        "            yield line.strip()\n",
        "\n",
        "# Call the generator and print each line\n",
        "for line in read_file_lines('example.txt'): #here we need to pass the name of the file eg, 'example.txt'\n",
        "  print(line)\n"
      ],
      "metadata": {
        "colab": {
          "base_uri": "https://localhost:8080/",
          "height": 315
        },
        "id": "spK9Qqv_A4Zg",
        "outputId": "4522f8b6-20af-4594-b951-3db202cf676f"
      },
      "execution_count": 28,
      "outputs": [
        {
          "output_type": "error",
          "ename": "FileNotFoundError",
          "evalue": "[Errno 2] No such file or directory: 'example.txt'",
          "traceback": [
            "\u001b[0;31m---------------------------------------------------------------------------\u001b[0m",
            "\u001b[0;31mFileNotFoundError\u001b[0m                         Traceback (most recent call last)",
            "\u001b[0;32m<ipython-input-28-2598997089>\u001b[0m in \u001b[0;36m<cell line: 0>\u001b[0;34m()\u001b[0m\n\u001b[1;32m      6\u001b[0m \u001b[0;34m\u001b[0m\u001b[0m\n\u001b[1;32m      7\u001b[0m \u001b[0;31m# Call the generator and print each line\u001b[0m\u001b[0;34m\u001b[0m\u001b[0;34m\u001b[0m\u001b[0m\n\u001b[0;32m----> 8\u001b[0;31m \u001b[0;32mfor\u001b[0m \u001b[0mline\u001b[0m \u001b[0;32min\u001b[0m \u001b[0mread_file_lines\u001b[0m\u001b[0;34m(\u001b[0m\u001b[0;34m'example.txt'\u001b[0m\u001b[0;34m)\u001b[0m\u001b[0;34m:\u001b[0m\u001b[0;34m\u001b[0m\u001b[0;34m\u001b[0m\u001b[0m\n\u001b[0m\u001b[1;32m      9\u001b[0m   \u001b[0mprint\u001b[0m\u001b[0;34m(\u001b[0m\u001b[0mline\u001b[0m\u001b[0;34m)\u001b[0m\u001b[0;34m\u001b[0m\u001b[0;34m\u001b[0m\u001b[0m\n",
            "\u001b[0;32m<ipython-input-28-2598997089>\u001b[0m in \u001b[0;36mread_file_lines\u001b[0;34m(filename)\u001b[0m\n\u001b[1;32m      1\u001b[0m \u001b[0;31m#7:  Implement a generator function that reads a file line by line and yields each line as a string.\u001b[0m\u001b[0;34m\u001b[0m\u001b[0;34m\u001b[0m\u001b[0m\n\u001b[1;32m      2\u001b[0m \u001b[0;32mdef\u001b[0m \u001b[0mread_file_lines\u001b[0m\u001b[0;34m(\u001b[0m\u001b[0mfilename\u001b[0m\u001b[0;34m)\u001b[0m\u001b[0;34m:\u001b[0m\u001b[0;34m\u001b[0m\u001b[0;34m\u001b[0m\u001b[0m\n\u001b[0;32m----> 3\u001b[0;31m     \u001b[0;32mwith\u001b[0m \u001b[0mopen\u001b[0m\u001b[0;34m(\u001b[0m\u001b[0mfilename\u001b[0m\u001b[0;34m,\u001b[0m \u001b[0;34m'r'\u001b[0m\u001b[0;34m)\u001b[0m \u001b[0;32mas\u001b[0m \u001b[0mfile\u001b[0m\u001b[0;34m:\u001b[0m\u001b[0;34m\u001b[0m\u001b[0;34m\u001b[0m\u001b[0m\n\u001b[0m\u001b[1;32m      4\u001b[0m         \u001b[0;32mfor\u001b[0m \u001b[0mline\u001b[0m \u001b[0;32min\u001b[0m \u001b[0mfile\u001b[0m\u001b[0;34m:\u001b[0m\u001b[0;34m\u001b[0m\u001b[0;34m\u001b[0m\u001b[0m\n\u001b[1;32m      5\u001b[0m             \u001b[0;32myield\u001b[0m \u001b[0mline\u001b[0m\u001b[0;34m.\u001b[0m\u001b[0mstrip\u001b[0m\u001b[0;34m(\u001b[0m\u001b[0;34m)\u001b[0m\u001b[0;34m\u001b[0m\u001b[0;34m\u001b[0m\u001b[0m\n",
            "\u001b[0;31mFileNotFoundError\u001b[0m: [Errno 2] No such file or directory: 'example.txt'"
          ]
        }
      ]
    },
    {
      "cell_type": "code",
      "source": [
        "#8: Use a lambda function in Python to sort a list of tuples based on the second element of each tuple.\n",
        "tuples = [(1, 3), (2, 1), (4, 2)]\n",
        "sorted_tuples = sorted(tuples, key=lambda x: x[1])\n",
        "\n",
        "print(sorted_tuples)"
      ],
      "metadata": {
        "colab": {
          "base_uri": "https://localhost:8080/"
        },
        "id": "yBVe0ehyBpmI",
        "outputId": "c2a076a3-3f41-42d5-c73a-c0769e0ff57b"
      },
      "execution_count": 30,
      "outputs": [
        {
          "output_type": "stream",
          "name": "stdout",
          "text": [
            "[(2, 1), (4, 2), (1, 3)]\n"
          ]
        }
      ]
    },
    {
      "cell_type": "code",
      "source": [
        "#9: Write a Python program that uses `map()` to convert a list of temperatures from Celsius to Fahrenheit.\n",
        "celsius = [0, 20, 37, 100]\n",
        "fahrenheit = list(map(lambda c: (c * 9/5) + 32, celsius))\n",
        "\n",
        "print(fahrenheit)"
      ],
      "metadata": {
        "colab": {
          "base_uri": "https://localhost:8080/"
        },
        "id": "NWs1qoQeCDxi",
        "outputId": "d0745a3e-ca96-4838-8857-9e56b9e3d219"
      },
      "execution_count": 32,
      "outputs": [
        {
          "output_type": "stream",
          "name": "stdout",
          "text": [
            "[32.0, 68.0, 98.6, 212.0]\n"
          ]
        }
      ]
    },
    {
      "cell_type": "code",
      "source": [
        "#10:Create a Python program that uses `filter()` to remove all the vowels from a given string.\n",
        "def remove_vowels(s):\n",
        "    return ''.join(filter(lambda x: x.lower() not in 'aeiou', s))\n",
        "\n",
        "# Example usage:\n",
        "result = remove_vowels(\"Hi my Name is Sonu\")\n",
        "\n",
        "print(result)"
      ],
      "metadata": {
        "colab": {
          "base_uri": "https://localhost:8080/"
        },
        "id": "cPkUm7RICPHu",
        "outputId": "982f2ad4-e0e5-4266-ee9e-7b66005e72c7"
      },
      "execution_count": 35,
      "outputs": [
        {
          "output_type": "stream",
          "name": "stdout",
          "text": [
            "H my Nm s Sn\n"
          ]
        }
      ]
    },
    {
      "cell_type": "code",
      "source": [
        "#11: Imagine an accounting routine used in a book shop. It works on a list with sublists, which look like this:\n",
        "orders = [\n",
        "    [34587, \"Learning Python, Mark Lutz\", 4, 40.95],\n",
        "    [98762, \"Programming Python, Mark Lutz\", 5, 56.80],\n",
        "    [77226, \"Head First Python, Paul Barry\", 3, 32.95],\n",
        "    [88112, \"Einfuhrung in Python3, Bernd Klein\", 3, 24.99]\n",
        "]\n",
        "\n",
        "\n",
        "order_totals = list(map(lambda order:\n",
        "    (order[0], order[2] * order[3] + 10 if order[2] * order[3] < 100 else order[2] * order[3]), orders))\n",
        "\n",
        "print(order_totals)\n"
      ],
      "metadata": {
        "colab": {
          "base_uri": "https://localhost:8080/"
        },
        "id": "zmqOkyICCgLe",
        "outputId": "cbc17838-6897-41b8-b8c8-4158fc025a1c"
      },
      "execution_count": 37,
      "outputs": [
        {
          "output_type": "stream",
          "name": "stdout",
          "text": [
            "[(34587, 163.8), (98762, 284.0), (77226, 108.85000000000001), (88112, 84.97)]\n"
          ]
        }
      ]
    }
  ]
}